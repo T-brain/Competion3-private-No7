{
 "cells": [
  {
   "cell_type": "code",
   "execution_count": 1,
   "metadata": {
    "collapsed": true
   },
   "outputs": [],
   "source": [
    "import numpy as np\n",
    "import pandas as pd\n",
    "import matplotlib.pyplot as plt\n",
    "from sklearn.metrics import mean_absolute_error\n",
    "import gc\n",
    "import catboost"
   ]
  },
  {
   "cell_type": "code",
   "execution_count": 2,
   "metadata": {
    "collapsed": true
   },
   "outputs": [],
   "source": [
    "training_set = pd.read_csv('training-set.csv')\n",
    "testing_set = pd.read_csv('testing-set.csv')\n",
    "claim = pd.read_csv('claim_0702.csv')\n",
    "policy = pd.read_csv('policy_0702.csv')\n",
    "duplicate_policy = pd.read_csv('duplicate_policy.csv',header=None,names=['Policy_Number'])\n",
    "wrong_dbirth = pd.read_csv('wrong_dbirth.csv',header=None,names=['Policy_Number'])"
   ]
  },
  {
   "cell_type": "code",
   "execution_count": 3,
   "metadata": {
    "collapsed": true
   },
   "outputs": [],
   "source": [
    "#更正有問題的資料\n",
    "training_set.loc[training_set['Policy_Number'].isin(duplicate_policy['Policy_Number']),'Next_Premium']=training_set['Next_Premium']/2\n",
    "policy.loc[policy['Policy_Number'].isin(wrong_dbirth['Policy_Number']),'dbirth']=np.NaN"
   ]
  },
  {
   "cell_type": "code",
   "execution_count": 4,
   "metadata": {
    "collapsed": true
   },
   "outputs": [],
   "source": [
    "#從樣本中剔除Insured_Amount1,2,3皆為0,若三者皆為0則直接預測Next_Premium=0\n",
    "policy=policy[(policy['Insured_Amount1']!=0) | (policy['Insured_Amount2']!=0) | (policy['Insured_Amount3']!=0)]"
   ]
  },
  {
   "cell_type": "code",
   "execution_count": 5,
   "metadata": {
    "collapsed": true
   },
   "outputs": [],
   "source": [
    "baseline=policy[['Policy_Number','Premium']]\n",
    "\n",
    "Label_1=[s+'_'+l for s in baseline.columns.tolist() if s!='Policy_Number' for l in ['SUM','MEAN','COUNT']]\n",
    "baseline=baseline.groupby('Policy_Number').agg(['sum','mean','count']).reset_index()\n",
    "baseline.columns=['Policy_Number']+Label_1"
   ]
  },
  {
   "cell_type": "code",
   "execution_count": 6,
   "metadata": {
    "collapsed": true
   },
   "outputs": [],
   "source": [
    "#產生變數: Premium_Refund\n",
    "policy['Premium_Refund']=policy['Premium']\n",
    "policy.loc[policy['Coverage_Deductible_if_applied']>0,'Premium_Refund']=0\n",
    "policy.loc[policy['Coverage_Deductible_if_applied']<0,'Premium']=0"
   ]
  },
  {
   "cell_type": "code",
   "execution_count": 7,
   "metadata": {
    "collapsed": true
   },
   "outputs": [],
   "source": [
    "training_set_baseline=training_set[['Policy_Number','Next_Premium']].\\\n",
    "merge(baseline,on='Policy_Number',how='left')"
   ]
  },
  {
   "cell_type": "code",
   "execution_count": 8,
   "metadata": {
    "collapsed": true
   },
   "outputs": [],
   "source": [
    "training_set_baseline['segment']=0\n",
    "\n",
    "training_set_baseline.loc[training_set_baseline['Next_Premium']!=0,'segment']=1"
   ]
  },
  {
   "cell_type": "code",
   "execution_count": 9,
   "metadata": {
    "collapsed": true
   },
   "outputs": [],
   "source": [
    "training_set_baseline2=training_set_baseline.drop(['Next_Premium','Next_Premium','Premium_SUM','Premium_MEAN','Premium_COUNT'],axis=1)\n",
    "training_set_baseline3=training_set_baseline.drop(['Next_Premium','Next_Premium','Premium_MEAN','Premium_COUNT'],axis=1)"
   ]
  },
  {
   "cell_type": "markdown",
   "metadata": {},
   "source": [
    "Insured's_IＤ衍生變數"
   ]
  },
  {
   "cell_type": "code",
   "execution_count": 10,
   "metadata": {
    "collapsed": true
   },
   "outputs": [],
   "source": [
    "policyID=policy.iloc[:,0:2].drop_duplicates()\n",
    "policyID.columns=['Policy_Number','Insureds_ID']"
   ]
  },
  {
   "cell_type": "code",
   "execution_count": 11,
   "metadata": {
    "collapsed": true
   },
   "outputs": [],
   "source": [
    "policy_amt=policy[['Policy_Number','Insured_Amount1','Insured_Amount2','Insured_Amount3','Premium']]\n",
    "policy_amt=policy_amt.groupby('Policy_Number').agg(['sum']).reset_index()\n",
    "policy_amt.columns=['Policy_Number','Insured_Amount1_ID','Insured_Amount2_ID','Insured_Amount3_ID','Premium_ID']"
   ]
  },
  {
   "cell_type": "code",
   "execution_count": 12,
   "metadata": {},
   "outputs": [
    {
     "data": {
      "text/plain": [
       "(337188, 5)"
      ]
     },
     "execution_count": 12,
     "metadata": {},
     "output_type": "execute_result"
    }
   ],
   "source": [
    "policy_amt.shape"
   ]
  },
  {
   "cell_type": "code",
   "execution_count": 13,
   "metadata": {
    "collapsed": true
   },
   "outputs": [],
   "source": [
    "policyID_count=policyID.iloc[:,1].value_counts().to_frame().reset_index()\n",
    "policyID_count=policyID_count[policyID_count['Insureds_ID']>1]"
   ]
  },
  {
   "cell_type": "code",
   "execution_count": 14,
   "metadata": {
    "collapsed": true
   },
   "outputs": [],
   "source": [
    "policyID_count=policyID.iloc[:,1].value_counts().to_frame().reset_index()\n",
    "policyID_count=policyID_count[policyID_count['Insureds_ID']>1]\n",
    "policyID_count=policyID_count.rename(columns={'index':'Insureds_ID','Insureds_ID':'Insureds_ID_count'})"
   ]
  },
  {
   "cell_type": "code",
   "execution_count": 15,
   "metadata": {
    "collapsed": true
   },
   "outputs": [],
   "source": [
    "policyID=policyID.merge(policyID_count,on='Insureds_ID',how='inner')\\\n",
    ".merge(policy_amt,on='Policy_Number',how='left')"
   ]
  },
  {
   "cell_type": "code",
   "execution_count": 16,
   "metadata": {
    "collapsed": true
   },
   "outputs": [],
   "source": [
    "policyID2=policyID.iloc[:,1:]"
   ]
  },
  {
   "cell_type": "code",
   "execution_count": 17,
   "metadata": {
    "collapsed": true
   },
   "outputs": [],
   "source": [
    "policyID2=policyID.iloc[:,1:]\n",
    "\n",
    "Label_1=[s+'_'+l for s in policyID2.columns.tolist() if s!='Insureds_ID' for l in ['SUM','MEAN','MAX']]\n",
    "policyID2=policyID2.groupby('Insureds_ID').agg(['sum','mean','max']).reset_index()\n",
    "policyID2.columns=['Insureds_ID']+Label_1"
   ]
  },
  {
   "cell_type": "code",
   "execution_count": 18,
   "metadata": {
    "collapsed": true
   },
   "outputs": [],
   "source": [
    "policyID2=policyID.merge(policyID2,on='Insureds_ID',how='left')\\\n",
    ".drop(['Insureds_ID_count_SUM','Insureds_ID_count_MEAN','Insureds_ID_count_MAX'],axis=1)"
   ]
  },
  {
   "cell_type": "code",
   "execution_count": 19,
   "metadata": {
    "collapsed": true
   },
   "outputs": [],
   "source": [
    "policyID2['Insured_Amount1_ID_ratio']=1/policyID2['Insureds_ID_count']\n",
    "policyID2['Insured_Amount2_ID_ratio']=1/policyID2['Insureds_ID_count']\n",
    "policyID2['Insured_Amount3_ID_ratio']=1/policyID2['Insureds_ID_count']\n",
    "policyID2['Premium_ID_ratio']=1/policyID2['Insureds_ID_count']"
   ]
  },
  {
   "cell_type": "code",
   "execution_count": 20,
   "metadata": {
    "collapsed": true
   },
   "outputs": [],
   "source": [
    "policyID2.loc[policyID2['Insured_Amount1_ID_SUM']!=0,'Insured_Amount1_ID_ratio']=\\\n",
    "policyID2['Insured_Amount1_ID']/policyID2['Insured_Amount1_ID_SUM']\n",
    "\n",
    "policyID2.loc[policyID2['Insured_Amount2_ID_SUM']!=0,'Insured_Amount2_ID_ratio']=\\\n",
    "policyID2['Insured_Amount2_ID']/policyID2['Insured_Amount2_ID_SUM']\n",
    "\n",
    "policyID2.loc[policyID2['Insured_Amount3_ID_SUM']!=0,'Insured_Amount3_ID_ratio']=\\\n",
    "policyID2['Insured_Amount3_ID']/policyID2['Insured_Amount3_ID_SUM']\n",
    "\n",
    "policyID2.loc[policyID2['Premium_ID_SUM']!=0,'Premium_ID_ratio']=\\\n",
    "policyID2['Premium_ID']/policyID2['Premium_ID_SUM']"
   ]
  },
  {
   "cell_type": "markdown",
   "metadata": {},
   "source": [
    "挑選可能有用變數"
   ]
  },
  {
   "cell_type": "code",
   "execution_count": 21,
   "metadata": {},
   "outputs": [
    {
     "name": "stdout",
     "output_type": "stream",
     "text": [
      "(337188, 33)\n"
     ]
    }
   ],
   "source": [
    "policy_cif=policy[[\n",
    "#car var\n",
    "'Policy_Number','Vehicle_identifier',\n",
    "'Vehicle_Make_and_Model1','Vehicle_Make_and_Model2',\\\n",
    "'Manafactured_Year_and_Month',\"Engine_Displacement_(Cubic_Centimeter)\",\\\n",
    "'Imported_or_Domestic_Car','Coding_of_Vehicle_Branding_&_Type',\\\n",
    "'qpt','fpt','fequipment1','fequipment2','fequipment3','fequipment4',\\\n",
    "'fequipment5','fequipment6','fequipment9','nequipment9',\\\n",
    "'Replacement_cost_of_insured_vehicle','Distribution_Channel',\n",
    "'lia_class','plia_acc','pdmg_acc',\\\n",
    "#personal var\n",
    "'Multiple_Products_with_TmNewa_(Yes_or_No?)',\\\n",
    "'fsex','fmarriage','fassured','ibirth','dbirth',\\\n",
    "'Prior_Policy_Number','Cancellation',\\\n",
    "'aassured_zip','iply_area']]\n",
    "policy_cif=policy_cif.drop_duplicates()\n",
    "print(policy_cif.shape)\n",
    "#\"Insured's_ID\" is not included"
   ]
  },
  {
   "cell_type": "markdown",
   "metadata": {},
   "source": [
    "移除前筆保單,車牌\n",
    "equipment相關變數（值太少）"
   ]
  },
  {
   "cell_type": "code",
   "execution_count": 22,
   "metadata": {
    "collapsed": true
   },
   "outputs": [],
   "source": [
    "policy_cif=policy_cif.drop(['Prior_Policy_Number','Vehicle_identifier'],axis=1)\n",
    "policy_cif=policy_cif.drop([\"fpt\"],axis=1) #fpt has only one value\n",
    "policy_cif=policy_cif.drop([\n",
    "'fequipment1','fequipment2','fequipment3',\\\n",
    "'fequipment4','fequipment5','fequipment6',\\\n",
    "'fequipment9','nequipment9'],axis=1) #only few values"
   ]
  },
  {
   "cell_type": "markdown",
   "metadata": {},
   "source": [
    "整理類別型變數（不含保單相關變數）"
   ]
  },
  {
   "cell_type": "code",
   "execution_count": 23,
   "metadata": {
    "collapsed": true
   },
   "outputs": [],
   "source": [
    "#定義要處理的欄位\n",
    "object_list=[\n",
    "'Vehicle_Make_and_Model1',\\\n",
    "'Vehicle_Make_and_Model2',\\\n",
    "\"Imported_or_Domestic_Car\",\\\n",
    "\"Coding_of_Vehicle_Branding_&_Type\",\\\n",
    "\"Distribution_Channel\",\\\n",
    "'fassured',\\\n",
    "'fsex',\\\n",
    "'fmarriage',\\\n",
    "'aassured_zip',\\\n",
    "'iply_area',\\\n",
    "]\n",
    "#remove iply_area, aassured_zip,Distribution_Channel"
   ]
  },
  {
   "cell_type": "code",
   "execution_count": 24,
   "metadata": {
    "collapsed": true
   },
   "outputs": [],
   "source": [
    "#處理空值＆指定欄位型態\n",
    "for var in object_list:\n",
    "    policy_cif[var]=policy_cif[var].replace(' ',np.nan)\n",
    "    policy_cif[var]=policy_cif[var].astype('object')"
   ]
  },
  {
   "cell_type": "code",
   "execution_count": 25,
   "metadata": {
    "collapsed": true
   },
   "outputs": [],
   "source": [
    "#廠牌名稱,主通路代號做特別處理,把類別出現一千次以下的併一群\n",
    "transform_list=['Vehicle_Make_and_Model1','Distribution_Channel',\n",
    "                'Vehicle_Make_and_Model2',\n",
    "                'Coding_of_Vehicle_Branding_&_Type',\n",
    "               'aassured_zip']#,'iply_area']\n",
    "for var in transform_list:\n",
    "    comb=policy_cif[['Policy_Number',var]].groupby(var).count().\\\n",
    "    sort_values(by=['Policy_Number'],ascending=False).reset_index().rename(columns={'Policy_Number':var+'_Count'})\n",
    "    comb[var+'_New']=comb[var]\n",
    "    comb.loc[comb[var+'_Count']<1000,var+'_New']='others'\n",
    "    comb=comb.drop([var+'_Count'],axis=1)\n",
    "    policy_cif=policy_cif.merge(comb,on=var,how='left')\n",
    "    policy_cif=policy_cif.drop([var],axis=1)\n",
    "    policy_cif[var+'_New']=policy_cif[var+'_New'].astype('object')"
   ]
  },
  {
   "cell_type": "code",
   "execution_count": 26,
   "metadata": {
    "collapsed": true
   },
   "outputs": [],
   "source": [
    "policy_cif=policy_cif.rename(columns={'iply_area':'iply_area_New',\n",
    "                             'Vehicle_Make_and_Model1':'Vehicle_Make_and_Model1_New',\n",
    "                             'Distribution_Channel':'Distribution_Channel_New',\n",
    "                             'Vehicle_Make_and_Model2':'Vehicle_Make_and_Model2_New',\n",
    "                             'Coding_of_Vehicle_Branding_&_Type':'Coding_of_Vehicle_Branding_&_Type_New',\n",
    "                             'aassured_zip':'aassured_zip_New'})"
   ]
  },
  {
   "cell_type": "code",
   "execution_count": 27,
   "metadata": {
    "collapsed": true
   },
   "outputs": [],
   "source": [
    "#處理：非繼承自前保單\n",
    "policy_cif['Cancellation']=policy_cif['Cancellation'].replace(' ',0)\n",
    "policy_cif['Cancellation']=policy_cif['Cancellation'].replace('Y',1)\n",
    "policy_cif['Cancellation']=policy_cif['Cancellation'].astype('float64')\n",
    "#處理：製造年份\n",
    "policy_cif['Manafactured_Year_and_Month']=2017-policy_cif['Manafactured_Year_and_Month']\n",
    "#處理：出生日期,要保人出生日期\n",
    "policy_cif['ibirth']=policy_cif['ibirth'].str.extract('(\\d{4})',expand=False)\n",
    "policy_cif['dbirth']=policy_cif['dbirth'].str.extract('(\\d{4})',expand=False)\n",
    "policy_cif['ibirth']=2017-policy_cif['ibirth'].astype('float64')\n",
    "policy_cif['dbirth']=2017-policy_cif['dbirth'].astype('float64')"
   ]
  },
  {
   "cell_type": "code",
   "execution_count": 28,
   "metadata": {
    "collapsed": true
   },
   "outputs": [],
   "source": [
    "#類別型變數處理 供lightgbm使用\n",
    "def object_to_int(dataset,column):\n",
    "    object_list=dataset[column].unique().tolist()\n",
    "    for i,value in enumerate(object_list):\n",
    "        dataset.loc[dataset[column]==value,column]=i+1\n",
    "    dataset[column]=dataset[column].fillna(0)\n",
    "    dataset[column]=dataset[column].astype('int')\n",
    "    return dataset[column]"
   ]
  },
  {
   "cell_type": "code",
   "execution_count": 29,
   "metadata": {
    "collapsed": true
   },
   "outputs": [],
   "source": [
    "policy_cif['Imported_or_Domestic_Car']=policy_cif['Imported_or_Domestic_Car'].astype('int')\n",
    "\n",
    "policy_cif['fsex']=policy_cif['fsex'].fillna(0)\n",
    "policy_cif['fsex']=policy_cif['fsex'].astype('int')\n",
    "\n",
    "policy_cif['fmarriage']=policy_cif['fmarriage'].fillna(0)\n",
    "policy_cif['fmarriage']=policy_cif['fmarriage'].astype('int')\n",
    "\n",
    "policy_cif['fassured']=policy_cif['fassured'].fillna(0)\n",
    "policy_cif['fassured']=policy_cif['fassured'].astype('int')\n",
    "\n",
    "policy_cif['iply_area_New']=object_to_int(policy_cif,'iply_area_New')\n",
    "policy_cif['Vehicle_Make_and_Model1_New']=object_to_int(policy_cif,'Vehicle_Make_and_Model1_New')\n",
    "policy_cif['Distribution_Channel_New']=object_to_int(policy_cif,'Distribution_Channel_New')\n",
    "\n",
    "policy_cif['Vehicle_Make_and_Model2_New']=object_to_int(policy_cif,'Vehicle_Make_and_Model2_New')\n",
    "policy_cif['Coding_of_Vehicle_Branding_&_Type_New']=object_to_int(policy_cif,'Coding_of_Vehicle_Branding_&_Type_New')\n",
    "policy_cif['aassured_zip_New']=object_to_int(policy_cif,'aassured_zip_New')"
   ]
  },
  {
   "cell_type": "markdown",
   "metadata": {},
   "source": [
    "整理數值型變數（保單相關）"
   ]
  },
  {
   "cell_type": "code",
   "execution_count": 30,
   "metadata": {
    "collapsed": true
   },
   "outputs": [],
   "source": [
    "#處理自負額\n",
    "Insurance_Coverage_no_cov = ['09I', '10A', '14E', '15F', \n",
    "                             '15O', '20B', '20K', '29K', \n",
    "                             '32N', '33F', '33O', '56K', \n",
    "                             '65K']\n",
    "flt = policy['Insurance_Coverage'].isin(Insurance_Coverage_no_cov)\n",
    "idx = policy[flt].index\n",
    "\n",
    "# It's ok\n",
    "policy.loc[idx, 'Coverage_Deductible_if_applied'] = 0"
   ]
  },
  {
   "cell_type": "code",
   "execution_count": 31,
   "metadata": {
    "collapsed": true
   },
   "outputs": [],
   "source": [
    "# Warning is ok\n",
    "sum_insured = (policy.Insured_Amount1 + policy.Insured_Amount2 + policy.Insured_Amount3)\n",
    "\n",
    "flt = (policy['Coverage_Deductible_if_applied'] == 10)\n",
    "policy.loc[flt, 'Coverage_Deductible_if_applied'] = sum_insured*0.1\n",
    "\n",
    "flt = (policy['Coverage_Deductible_if_applied'] == 20)\n",
    "policy.loc[flt, 'Coverage_Deductible_if_applied'] = sum_insured*0.2\n",
    "\n",
    "\n",
    "flt = (policy['Coverage_Deductible_if_applied'] == 1)\n",
    "policy.loc[flt, 'Coverage_Deductible_if_applied'] = 5000\n",
    "\n",
    "flt = (policy['Coverage_Deductible_if_applied'] == 2)\n",
    "policy.loc[flt, 'Coverage_Deductible_if_applied'] = 6500\n",
    "\n",
    "flt = (policy['Coverage_Deductible_if_applied'] == 3)\n",
    "policy.loc[flt, 'Coverage_Deductible_if_applied'] = 7666\n",
    "\n",
    "# 退保的部分也要做轉換\n",
    "flt = (policy['Coverage_Deductible_if_applied'] == -10)\n",
    "policy.loc[flt, 'Coverage_Deductible_if_applied'] = sum_insured*0.1\n",
    "\n",
    "flt = (policy['Coverage_Deductible_if_applied'] == -20)\n",
    "policy.loc[flt, 'Coverage_Deductible_if_applied'] = sum_insured*0.2\n",
    "\n",
    "\n",
    "flt = (policy['Coverage_Deductible_if_applied'] == -1)\n",
    "policy.loc[flt, 'Coverage_Deductible_if_applied'] = -5000\n",
    "\n",
    "flt = (policy['Coverage_Deductible_if_applied'] == -2)\n",
    "policy.loc[flt, 'Coverage_Deductible_if_applied'] = -6500\n",
    "\n",
    "flt = (policy['Coverage_Deductible_if_applied'] == -3)\n",
    "policy.loc[flt, 'Coverage_Deductible_if_applied'] = -7666\n",
    "\n"
   ]
  },
  {
   "cell_type": "code",
   "execution_count": 32,
   "metadata": {},
   "outputs": [
    {
     "data": {
      "text/html": [
       "<div>\n",
       "<table border=\"1\" class=\"dataframe\">\n",
       "  <thead>\n",
       "    <tr style=\"text-align: right;\">\n",
       "      <th></th>\n",
       "      <th>Policy_Number</th>\n",
       "      <th>Insured_Amount1_MEAN</th>\n",
       "      <th>Insured_Amount1_SUM</th>\n",
       "      <th>Insured_Amount1_MEDIAN</th>\n",
       "      <th>Insured_Amount1_MAX</th>\n",
       "      <th>Insured_Amount2_MEAN</th>\n",
       "      <th>Insured_Amount2_SUM</th>\n",
       "      <th>Insured_Amount2_MEDIAN</th>\n",
       "      <th>Insured_Amount2_MAX</th>\n",
       "      <th>Insured_Amount3_MEAN</th>\n",
       "      <th>...</th>\n",
       "      <th>Insured_Amount3_MAX</th>\n",
       "      <th>Coverage_Deductible_if_applied_MEAN</th>\n",
       "      <th>Coverage_Deductible_if_applied_SUM</th>\n",
       "      <th>Coverage_Deductible_if_applied_MEDIAN</th>\n",
       "      <th>Coverage_Deductible_if_applied_MAX</th>\n",
       "      <th>Premium_MEAN</th>\n",
       "      <th>Premium_COUNT</th>\n",
       "      <th>Premium_SUM</th>\n",
       "      <th>Premium_MEDIAN</th>\n",
       "      <th>Premium_MAX</th>\n",
       "    </tr>\n",
       "  </thead>\n",
       "  <tbody>\n",
       "    <tr>\n",
       "      <th>0</th>\n",
       "      <td>000061141b237e8619efedcd6939fddeff05b9a5</td>\n",
       "      <td>166666.666667</td>\n",
       "      <td>500000</td>\n",
       "      <td>0</td>\n",
       "      <td>500000</td>\n",
       "      <td>0.000000</td>\n",
       "      <td>0</td>\n",
       "      <td>0</td>\n",
       "      <td>0</td>\n",
       "      <td>700000</td>\n",
       "      <td>...</td>\n",
       "      <td>1000000</td>\n",
       "      <td>0.000000</td>\n",
       "      <td>0.0</td>\n",
       "      <td>0.0</td>\n",
       "      <td>0.0</td>\n",
       "      <td>528.666667</td>\n",
       "      <td>3</td>\n",
       "      <td>1586</td>\n",
       "      <td>660.0</td>\n",
       "      <td>727</td>\n",
       "    </tr>\n",
       "    <tr>\n",
       "      <th>1</th>\n",
       "      <td>0000d65ef9b4e9e5e9603617bd5fb8497b7f02b5</td>\n",
       "      <td>314285.714286</td>\n",
       "      <td>2200000</td>\n",
       "      <td>0</td>\n",
       "      <td>2000000</td>\n",
       "      <td>285714.285714</td>\n",
       "      <td>2000000</td>\n",
       "      <td>0</td>\n",
       "      <td>2000000</td>\n",
       "      <td>3935142</td>\n",
       "      <td>...</td>\n",
       "      <td>24000000</td>\n",
       "      <td>3885.714286</td>\n",
       "      <td>27200.0</td>\n",
       "      <td>0.0</td>\n",
       "      <td>27200.0</td>\n",
       "      <td>1304.571429</td>\n",
       "      <td>7</td>\n",
       "      <td>9132</td>\n",
       "      <td>661.0</td>\n",
       "      <td>5352</td>\n",
       "    </tr>\n",
       "    <tr>\n",
       "      <th>2</th>\n",
       "      <td>0001221abee6f59d6d40eeb1ba9ffa0f4f92b36b</td>\n",
       "      <td>1000000.000000</td>\n",
       "      <td>3000000</td>\n",
       "      <td>0</td>\n",
       "      <td>3000000</td>\n",
       "      <td>0.000000</td>\n",
       "      <td>0</td>\n",
       "      <td>0</td>\n",
       "      <td>0</td>\n",
       "      <td>3100000</td>\n",
       "      <td>...</td>\n",
       "      <td>6000000</td>\n",
       "      <td>0.000000</td>\n",
       "      <td>0.0</td>\n",
       "      <td>0.0</td>\n",
       "      <td>0.0</td>\n",
       "      <td>953.666667</td>\n",
       "      <td>3</td>\n",
       "      <td>2861</td>\n",
       "      <td>801.0</td>\n",
       "      <td>1280</td>\n",
       "    </tr>\n",
       "    <tr>\n",
       "      <th>3</th>\n",
       "      <td>000148bbf40f28bfc860c0d272aadc429e19e2d1</td>\n",
       "      <td>500000.000000</td>\n",
       "      <td>1000000</td>\n",
       "      <td>500000</td>\n",
       "      <td>1000000</td>\n",
       "      <td>0.000000</td>\n",
       "      <td>0</td>\n",
       "      <td>0</td>\n",
       "      <td>0</td>\n",
       "      <td>6100000</td>\n",
       "      <td>...</td>\n",
       "      <td>12000000</td>\n",
       "      <td>0.000000</td>\n",
       "      <td>0.0</td>\n",
       "      <td>0.0</td>\n",
       "      <td>0.0</td>\n",
       "      <td>864.000000</td>\n",
       "      <td>2</td>\n",
       "      <td>1728</td>\n",
       "      <td>864.0</td>\n",
       "      <td>891</td>\n",
       "    </tr>\n",
       "    <tr>\n",
       "      <th>4</th>\n",
       "      <td>0001ad0ad0618f6d2e2c1875105adce6bcd77c2c</td>\n",
       "      <td>336666.666667</td>\n",
       "      <td>1010000</td>\n",
       "      <td>10000</td>\n",
       "      <td>1000000</td>\n",
       "      <td>0.000000</td>\n",
       "      <td>0</td>\n",
       "      <td>0</td>\n",
       "      <td>0</td>\n",
       "      <td>783333</td>\n",
       "      <td>...</td>\n",
       "      <td>2000000</td>\n",
       "      <td>0.000000</td>\n",
       "      <td>0.0</td>\n",
       "      <td>0.0</td>\n",
       "      <td>0.0</td>\n",
       "      <td>731.666667</td>\n",
       "      <td>3</td>\n",
       "      <td>2195</td>\n",
       "      <td>885.0</td>\n",
       "      <td>1024</td>\n",
       "    </tr>\n",
       "  </tbody>\n",
       "</table>\n",
       "<p>5 rows × 22 columns</p>\n",
       "</div>"
      ],
      "text/plain": [
       "                              Policy_Number  Insured_Amount1_MEAN  \\\n",
       "0  000061141b237e8619efedcd6939fddeff05b9a5         166666.666667   \n",
       "1  0000d65ef9b4e9e5e9603617bd5fb8497b7f02b5         314285.714286   \n",
       "2  0001221abee6f59d6d40eeb1ba9ffa0f4f92b36b        1000000.000000   \n",
       "3  000148bbf40f28bfc860c0d272aadc429e19e2d1         500000.000000   \n",
       "4  0001ad0ad0618f6d2e2c1875105adce6bcd77c2c         336666.666667   \n",
       "\n",
       "   Insured_Amount1_SUM  Insured_Amount1_MEDIAN  Insured_Amount1_MAX  \\\n",
       "0               500000                       0               500000   \n",
       "1              2200000                       0              2000000   \n",
       "2              3000000                       0              3000000   \n",
       "3              1000000                  500000              1000000   \n",
       "4              1010000                   10000              1000000   \n",
       "\n",
       "   Insured_Amount2_MEAN  Insured_Amount2_SUM  Insured_Amount2_MEDIAN  \\\n",
       "0              0.000000                    0                       0   \n",
       "1         285714.285714              2000000                       0   \n",
       "2              0.000000                    0                       0   \n",
       "3              0.000000                    0                       0   \n",
       "4              0.000000                    0                       0   \n",
       "\n",
       "   Insured_Amount2_MAX  Insured_Amount3_MEAN     ...       \\\n",
       "0                    0                700000     ...        \n",
       "1              2000000               3935142     ...        \n",
       "2                    0               3100000     ...        \n",
       "3                    0               6100000     ...        \n",
       "4                    0                783333     ...        \n",
       "\n",
       "   Insured_Amount3_MAX  Coverage_Deductible_if_applied_MEAN  \\\n",
       "0              1000000                             0.000000   \n",
       "1             24000000                          3885.714286   \n",
       "2              6000000                             0.000000   \n",
       "3             12000000                             0.000000   \n",
       "4              2000000                             0.000000   \n",
       "\n",
       "   Coverage_Deductible_if_applied_SUM  Coverage_Deductible_if_applied_MEDIAN  \\\n",
       "0                                 0.0                                    0.0   \n",
       "1                             27200.0                                    0.0   \n",
       "2                                 0.0                                    0.0   \n",
       "3                                 0.0                                    0.0   \n",
       "4                                 0.0                                    0.0   \n",
       "\n",
       "   Coverage_Deductible_if_applied_MAX  Premium_MEAN  Premium_COUNT  \\\n",
       "0                                 0.0    528.666667              3   \n",
       "1                             27200.0   1304.571429              7   \n",
       "2                                 0.0    953.666667              3   \n",
       "3                                 0.0    864.000000              2   \n",
       "4                                 0.0    731.666667              3   \n",
       "\n",
       "   Premium_SUM  Premium_MEDIAN  Premium_MAX  \n",
       "0         1586           660.0          727  \n",
       "1         9132           661.0         5352  \n",
       "2         2861           801.0         1280  \n",
       "3         1728           864.0          891  \n",
       "4         2195           885.0         1024  \n",
       "\n",
       "[5 rows x 22 columns]"
      ]
     },
     "execution_count": 32,
     "metadata": {},
     "output_type": "execute_result"
    }
   ],
   "source": [
    "policy_amount=policy[['Policy_Number','Insured_Amount1','Insured_Amount2','Insured_Amount3','Coverage_Deductible_if_applied','Premium']]\n",
    "\n",
    "Label_1=[s+'_'+l for s in policy_amount.columns.tolist() if s!='Policy_Number' for l in ['MEAN','COUNT','SUM','MEDIAN','MAX']]\n",
    "avg_policy_amount=policy_amount.groupby('Policy_Number').agg(['mean','count','sum','median','max']).reset_index()\n",
    "avg_policy_amount.columns=['Policy_Number']+Label_1\n",
    "avg_policy_amount=avg_policy_amount.drop(['Insured_Amount1_COUNT','Insured_Amount2_COUNT','Insured_Amount3_COUNT','Coverage_Deductible_if_applied_COUNT'],axis=1)\n",
    "avg_policy_amount.head()"
   ]
  },
  {
   "cell_type": "markdown",
   "metadata": {},
   "source": [
    "整理類別型變數（保單相關）"
   ]
  },
  {
   "cell_type": "code",
   "execution_count": 33,
   "metadata": {
    "collapsed": true
   },
   "outputs": [],
   "source": [
    "policy_category=policy[['Policy_Number','Main_Insurance_Coverage_Group','Insurance_Coverage']]\n",
    "policy_cat_index=policy_category['Policy_Number']\n",
    "policy_cat=pd.get_dummies(policy_category.drop(['Policy_Number'],axis=1))\n",
    "policy_category=pd.concat([policy_cat_index,policy_cat],axis=1)"
   ]
  },
  {
   "cell_type": "code",
   "execution_count": 34,
   "metadata": {},
   "outputs": [
    {
     "data": {
      "text/html": [
       "<div>\n",
       "<table border=\"1\" class=\"dataframe\">\n",
       "  <thead>\n",
       "    <tr style=\"text-align: right;\">\n",
       "      <th></th>\n",
       "      <th>Policy_Number</th>\n",
       "      <th>Main_Insurance_Coverage_Group_竊盜_SUM</th>\n",
       "      <th>Main_Insurance_Coverage_Group_車損_SUM</th>\n",
       "      <th>Main_Insurance_Coverage_Group_車責_SUM</th>\n",
       "      <th>Insurance_Coverage_00I_SUM</th>\n",
       "      <th>Insurance_Coverage_01A_SUM</th>\n",
       "      <th>Insurance_Coverage_01J_SUM</th>\n",
       "      <th>Insurance_Coverage_02K_SUM</th>\n",
       "      <th>Insurance_Coverage_03L_SUM</th>\n",
       "      <th>Insurance_Coverage_04M_SUM</th>\n",
       "      <th>...</th>\n",
       "      <th>Insurance_Coverage_65K_SUM</th>\n",
       "      <th>Insurance_Coverage_66C_SUM</th>\n",
       "      <th>Insurance_Coverage_66L_SUM</th>\n",
       "      <th>Insurance_Coverage_67D_SUM</th>\n",
       "      <th>Insurance_Coverage_68E_SUM</th>\n",
       "      <th>Insurance_Coverage_68N_SUM</th>\n",
       "      <th>Insurance_Coverage_70G_SUM</th>\n",
       "      <th>Insurance_Coverage_70P_SUM</th>\n",
       "      <th>Insurance_Coverage_71H_SUM</th>\n",
       "      <th>Insurance_Coverage_72@_SUM</th>\n",
       "    </tr>\n",
       "  </thead>\n",
       "  <tbody>\n",
       "    <tr>\n",
       "      <th>0</th>\n",
       "      <td>000061141b237e8619efedcd6939fddeff05b9a5</td>\n",
       "      <td>0</td>\n",
       "      <td>0</td>\n",
       "      <td>3</td>\n",
       "      <td>0</td>\n",
       "      <td>0</td>\n",
       "      <td>0</td>\n",
       "      <td>0</td>\n",
       "      <td>0</td>\n",
       "      <td>0</td>\n",
       "      <td>...</td>\n",
       "      <td>0</td>\n",
       "      <td>0</td>\n",
       "      <td>0</td>\n",
       "      <td>0</td>\n",
       "      <td>0</td>\n",
       "      <td>0</td>\n",
       "      <td>0</td>\n",
       "      <td>0</td>\n",
       "      <td>0</td>\n",
       "      <td>0</td>\n",
       "    </tr>\n",
       "    <tr>\n",
       "      <th>1</th>\n",
       "      <td>0000d65ef9b4e9e5e9603617bd5fb8497b7f02b5</td>\n",
       "      <td>2</td>\n",
       "      <td>2</td>\n",
       "      <td>3</td>\n",
       "      <td>0</td>\n",
       "      <td>0</td>\n",
       "      <td>0</td>\n",
       "      <td>0</td>\n",
       "      <td>0</td>\n",
       "      <td>1</td>\n",
       "      <td>...</td>\n",
       "      <td>0</td>\n",
       "      <td>0</td>\n",
       "      <td>0</td>\n",
       "      <td>0</td>\n",
       "      <td>0</td>\n",
       "      <td>0</td>\n",
       "      <td>0</td>\n",
       "      <td>0</td>\n",
       "      <td>0</td>\n",
       "      <td>0</td>\n",
       "    </tr>\n",
       "    <tr>\n",
       "      <th>2</th>\n",
       "      <td>0001221abee6f59d6d40eeb1ba9ffa0f4f92b36b</td>\n",
       "      <td>0</td>\n",
       "      <td>0</td>\n",
       "      <td>3</td>\n",
       "      <td>0</td>\n",
       "      <td>0</td>\n",
       "      <td>0</td>\n",
       "      <td>0</td>\n",
       "      <td>0</td>\n",
       "      <td>0</td>\n",
       "      <td>...</td>\n",
       "      <td>0</td>\n",
       "      <td>0</td>\n",
       "      <td>0</td>\n",
       "      <td>0</td>\n",
       "      <td>0</td>\n",
       "      <td>0</td>\n",
       "      <td>0</td>\n",
       "      <td>0</td>\n",
       "      <td>0</td>\n",
       "      <td>0</td>\n",
       "    </tr>\n",
       "    <tr>\n",
       "      <th>3</th>\n",
       "      <td>000148bbf40f28bfc860c0d272aadc429e19e2d1</td>\n",
       "      <td>0</td>\n",
       "      <td>0</td>\n",
       "      <td>2</td>\n",
       "      <td>0</td>\n",
       "      <td>0</td>\n",
       "      <td>0</td>\n",
       "      <td>0</td>\n",
       "      <td>0</td>\n",
       "      <td>0</td>\n",
       "      <td>...</td>\n",
       "      <td>0</td>\n",
       "      <td>0</td>\n",
       "      <td>0</td>\n",
       "      <td>0</td>\n",
       "      <td>0</td>\n",
       "      <td>0</td>\n",
       "      <td>0</td>\n",
       "      <td>0</td>\n",
       "      <td>0</td>\n",
       "      <td>0</td>\n",
       "    </tr>\n",
       "    <tr>\n",
       "      <th>4</th>\n",
       "      <td>0001ad0ad0618f6d2e2c1875105adce6bcd77c2c</td>\n",
       "      <td>0</td>\n",
       "      <td>1</td>\n",
       "      <td>2</td>\n",
       "      <td>0</td>\n",
       "      <td>0</td>\n",
       "      <td>0</td>\n",
       "      <td>0</td>\n",
       "      <td>0</td>\n",
       "      <td>0</td>\n",
       "      <td>...</td>\n",
       "      <td>0</td>\n",
       "      <td>0</td>\n",
       "      <td>0</td>\n",
       "      <td>0</td>\n",
       "      <td>0</td>\n",
       "      <td>0</td>\n",
       "      <td>0</td>\n",
       "      <td>0</td>\n",
       "      <td>0</td>\n",
       "      <td>0</td>\n",
       "    </tr>\n",
       "  </tbody>\n",
       "</table>\n",
       "<p>5 rows × 64 columns</p>\n",
       "</div>"
      ],
      "text/plain": [
       "                              Policy_Number  \\\n",
       "0  000061141b237e8619efedcd6939fddeff05b9a5   \n",
       "1  0000d65ef9b4e9e5e9603617bd5fb8497b7f02b5   \n",
       "2  0001221abee6f59d6d40eeb1ba9ffa0f4f92b36b   \n",
       "3  000148bbf40f28bfc860c0d272aadc429e19e2d1   \n",
       "4  0001ad0ad0618f6d2e2c1875105adce6bcd77c2c   \n",
       "\n",
       "   Main_Insurance_Coverage_Group_竊盜_SUM  Main_Insurance_Coverage_Group_車損_SUM  \\\n",
       "0                                     0                                     0   \n",
       "1                                     2                                     2   \n",
       "2                                     0                                     0   \n",
       "3                                     0                                     0   \n",
       "4                                     0                                     1   \n",
       "\n",
       "   Main_Insurance_Coverage_Group_車責_SUM  Insurance_Coverage_00I_SUM  \\\n",
       "0                                     3                           0   \n",
       "1                                     3                           0   \n",
       "2                                     3                           0   \n",
       "3                                     2                           0   \n",
       "4                                     2                           0   \n",
       "\n",
       "   Insurance_Coverage_01A_SUM  Insurance_Coverage_01J_SUM  \\\n",
       "0                           0                           0   \n",
       "1                           0                           0   \n",
       "2                           0                           0   \n",
       "3                           0                           0   \n",
       "4                           0                           0   \n",
       "\n",
       "   Insurance_Coverage_02K_SUM  Insurance_Coverage_03L_SUM  \\\n",
       "0                           0                           0   \n",
       "1                           0                           0   \n",
       "2                           0                           0   \n",
       "3                           0                           0   \n",
       "4                           0                           0   \n",
       "\n",
       "   Insurance_Coverage_04M_SUM             ...              \\\n",
       "0                           0             ...               \n",
       "1                           1             ...               \n",
       "2                           0             ...               \n",
       "3                           0             ...               \n",
       "4                           0             ...               \n",
       "\n",
       "   Insurance_Coverage_65K_SUM  Insurance_Coverage_66C_SUM  \\\n",
       "0                           0                           0   \n",
       "1                           0                           0   \n",
       "2                           0                           0   \n",
       "3                           0                           0   \n",
       "4                           0                           0   \n",
       "\n",
       "   Insurance_Coverage_66L_SUM  Insurance_Coverage_67D_SUM  \\\n",
       "0                           0                           0   \n",
       "1                           0                           0   \n",
       "2                           0                           0   \n",
       "3                           0                           0   \n",
       "4                           0                           0   \n",
       "\n",
       "   Insurance_Coverage_68E_SUM  Insurance_Coverage_68N_SUM  \\\n",
       "0                           0                           0   \n",
       "1                           0                           0   \n",
       "2                           0                           0   \n",
       "3                           0                           0   \n",
       "4                           0                           0   \n",
       "\n",
       "   Insurance_Coverage_70G_SUM  Insurance_Coverage_70P_SUM  \\\n",
       "0                           0                           0   \n",
       "1                           0                           0   \n",
       "2                           0                           0   \n",
       "3                           0                           0   \n",
       "4                           0                           0   \n",
       "\n",
       "   Insurance_Coverage_71H_SUM  Insurance_Coverage_72@_SUM  \n",
       "0                           0                           0  \n",
       "1                           0                           0  \n",
       "2                           0                           0  \n",
       "3                           0                           0  \n",
       "4                           0                           0  \n",
       "\n",
       "[5 rows x 64 columns]"
      ]
     },
     "execution_count": 34,
     "metadata": {},
     "output_type": "execute_result"
    }
   ],
   "source": [
    "Label_1=[s+'_'+l for s in policy_category.columns.tolist() if s!='Policy_Number' for l in ['SUM']]\n",
    "avg_policy_category=policy_category.groupby('Policy_Number').agg(['sum']).reset_index()\n",
    "avg_policy_category.columns=['Policy_Number']+Label_1\n",
    "avg_policy_category.head()"
   ]
  },
  {
   "cell_type": "markdown",
   "metadata": {},
   "source": [
    "整理claim表"
   ]
  },
  {
   "cell_type": "code",
   "execution_count": 35,
   "metadata": {
    "collapsed": true
   },
   "outputs": [],
   "source": [
    "object_list2=[\\\n",
    "'Nature_of_the_claim',\\\n",
    "\"Driver's_Gender\",\\\n",
    "\"Driver's_Relationship_with_Insured\",\\\n",
    "'Marital_Status_of_Driver',\\\n",
    "'Cause_of_Loss',\\\n",
    "'Coverage',\\\n",
    "\"Claim_Status_(close,_open,_reopen_etc)\",\\\n",
    "'Accident_area',\\\n",
    "'Accident_Time'\n",
    "]\n",
    "value_list=[\\\n",
    "'Paid_Loss_Amount',\\\n",
    "'paid_Expenses_Amount',\\\n",
    "'Salvage_or_Subrogation?',\\\n",
    "'At_Fault?',\\\n",
    "'Deductible',\\\n",
    "'number_of_claimants',\\\n",
    "'DOB_of_Driver',\\\n",
    "'Accident_Date'\\\n",
    "]"
   ]
  },
  {
   "cell_type": "code",
   "execution_count": 36,
   "metadata": {
    "collapsed": true
   },
   "outputs": [],
   "source": [
    "#處理空值＆指定欄位型態\n",
    "for var in object_list2:\n",
    "    claim[var]=claim[var].replace(' ',np.nan)\n",
    "    claim[var]=claim[var].astype('object')"
   ]
  },
  {
   "cell_type": "code",
   "execution_count": 37,
   "metadata": {
    "collapsed": true
   },
   "outputs": [],
   "source": [
    "#處理：肇事駕駛出生日,出險日期\n",
    "claim['DOB_of_Driver']=claim['DOB_of_Driver'].str.extract('(\\d{4})',expand=False)\n",
    "claim['Accident_Date']=claim['Accident_Date'].str.extract('(\\d{4})',expand=False)\n",
    "claim['DOB_of_Driver']=2017-claim['DOB_of_Driver'].astype('float64')\n",
    "claim['Accident_Date']=2017-claim['Accident_Date'].astype('float64')"
   ]
  },
  {
   "cell_type": "code",
   "execution_count": 38,
   "metadata": {
    "collapsed": true
   },
   "outputs": [],
   "source": [
    "#處理：出險時間\n",
    "claim['Accident_Time']=claim['Accident_Time'].str.extract('(\\d{2})',expand=False)\n",
    "claim['Accident_Time']=claim['Accident_Time'].astype('object')"
   ]
  },
  {
   "cell_type": "code",
   "execution_count": 39,
   "metadata": {
    "collapsed": true
   },
   "outputs": [],
   "source": [
    "#類別型變數轉dummy\n",
    "claim_cat=claim[object_list2]\n",
    "claim_index=claim['Policy_Number']\n",
    "claim_cat=pd.get_dummies(claim_cat)\n",
    "claim_cat=pd.concat([claim_index,claim_cat],axis=1)"
   ]
  },
  {
   "cell_type": "code",
   "execution_count": 40,
   "metadata": {},
   "outputs": [
    {
     "data": {
      "text/html": [
       "<div>\n",
       "<table border=\"1\" class=\"dataframe\">\n",
       "  <thead>\n",
       "    <tr style=\"text-align: right;\">\n",
       "      <th></th>\n",
       "      <th>Policy_Number</th>\n",
       "      <th>Nature_of_the_claim_1_SUM</th>\n",
       "      <th>Nature_of_the_claim_2_SUM</th>\n",
       "      <th>Driver's_Gender_1_SUM</th>\n",
       "      <th>Driver's_Gender_2_SUM</th>\n",
       "      <th>Driver's_Relationship_with_Insured_1_SUM</th>\n",
       "      <th>Driver's_Relationship_with_Insured_2_SUM</th>\n",
       "      <th>Driver's_Relationship_with_Insured_3_SUM</th>\n",
       "      <th>Driver's_Relationship_with_Insured_4_SUM</th>\n",
       "      <th>Driver's_Relationship_with_Insured_5_SUM</th>\n",
       "      <th>...</th>\n",
       "      <th>Accident_Time_14_SUM</th>\n",
       "      <th>Accident_Time_15_SUM</th>\n",
       "      <th>Accident_Time_16_SUM</th>\n",
       "      <th>Accident_Time_17_SUM</th>\n",
       "      <th>Accident_Time_18_SUM</th>\n",
       "      <th>Accident_Time_19_SUM</th>\n",
       "      <th>Accident_Time_20_SUM</th>\n",
       "      <th>Accident_Time_21_SUM</th>\n",
       "      <th>Accident_Time_22_SUM</th>\n",
       "      <th>Accident_Time_23_SUM</th>\n",
       "    </tr>\n",
       "  </thead>\n",
       "  <tbody>\n",
       "    <tr>\n",
       "      <th>0</th>\n",
       "      <td>0004a3f30deef9fc8f9f5cb334b8bec8d79c7453</td>\n",
       "      <td>3</td>\n",
       "      <td>4</td>\n",
       "      <td>0</td>\n",
       "      <td>7</td>\n",
       "      <td>7</td>\n",
       "      <td>0</td>\n",
       "      <td>0</td>\n",
       "      <td>0</td>\n",
       "      <td>0</td>\n",
       "      <td>...</td>\n",
       "      <td>0</td>\n",
       "      <td>0</td>\n",
       "      <td>0</td>\n",
       "      <td>0</td>\n",
       "      <td>0</td>\n",
       "      <td>0</td>\n",
       "      <td>0</td>\n",
       "      <td>0</td>\n",
       "      <td>0</td>\n",
       "      <td>0</td>\n",
       "    </tr>\n",
       "    <tr>\n",
       "      <th>1</th>\n",
       "      <td>0009049ed3ac539074a3cbfadb59cac6aec2fd98</td>\n",
       "      <td>1</td>\n",
       "      <td>0</td>\n",
       "      <td>1</td>\n",
       "      <td>0</td>\n",
       "      <td>0</td>\n",
       "      <td>1</td>\n",
       "      <td>0</td>\n",
       "      <td>0</td>\n",
       "      <td>0</td>\n",
       "      <td>...</td>\n",
       "      <td>0</td>\n",
       "      <td>0</td>\n",
       "      <td>0</td>\n",
       "      <td>0</td>\n",
       "      <td>0</td>\n",
       "      <td>0</td>\n",
       "      <td>0</td>\n",
       "      <td>0</td>\n",
       "      <td>0</td>\n",
       "      <td>0</td>\n",
       "    </tr>\n",
       "    <tr>\n",
       "      <th>2</th>\n",
       "      <td>000949143e8dc7d5f570cb8c3b6aa51c8f8ac9ad</td>\n",
       "      <td>3</td>\n",
       "      <td>0</td>\n",
       "      <td>0</td>\n",
       "      <td>3</td>\n",
       "      <td>0</td>\n",
       "      <td>0</td>\n",
       "      <td>0</td>\n",
       "      <td>0</td>\n",
       "      <td>3</td>\n",
       "      <td>...</td>\n",
       "      <td>2</td>\n",
       "      <td>0</td>\n",
       "      <td>0</td>\n",
       "      <td>0</td>\n",
       "      <td>1</td>\n",
       "      <td>0</td>\n",
       "      <td>0</td>\n",
       "      <td>0</td>\n",
       "      <td>0</td>\n",
       "      <td>0</td>\n",
       "    </tr>\n",
       "    <tr>\n",
       "      <th>3</th>\n",
       "      <td>0009dfd25805f44c7fa82c1ddb010eb3a05612f6</td>\n",
       "      <td>3</td>\n",
       "      <td>0</td>\n",
       "      <td>0</td>\n",
       "      <td>3</td>\n",
       "      <td>0</td>\n",
       "      <td>0</td>\n",
       "      <td>3</td>\n",
       "      <td>0</td>\n",
       "      <td>0</td>\n",
       "      <td>...</td>\n",
       "      <td>0</td>\n",
       "      <td>0</td>\n",
       "      <td>0</td>\n",
       "      <td>0</td>\n",
       "      <td>0</td>\n",
       "      <td>0</td>\n",
       "      <td>0</td>\n",
       "      <td>0</td>\n",
       "      <td>0</td>\n",
       "      <td>0</td>\n",
       "    </tr>\n",
       "    <tr>\n",
       "      <th>4</th>\n",
       "      <td>000a5d472fa501c2e9d771dfae4af646f281f97d</td>\n",
       "      <td>4</td>\n",
       "      <td>0</td>\n",
       "      <td>4</td>\n",
       "      <td>0</td>\n",
       "      <td>0</td>\n",
       "      <td>0</td>\n",
       "      <td>0</td>\n",
       "      <td>0</td>\n",
       "      <td>4</td>\n",
       "      <td>...</td>\n",
       "      <td>0</td>\n",
       "      <td>0</td>\n",
       "      <td>4</td>\n",
       "      <td>0</td>\n",
       "      <td>0</td>\n",
       "      <td>0</td>\n",
       "      <td>0</td>\n",
       "      <td>0</td>\n",
       "      <td>0</td>\n",
       "      <td>0</td>\n",
       "    </tr>\n",
       "  </tbody>\n",
       "</table>\n",
       "<p>5 rows × 127 columns</p>\n",
       "</div>"
      ],
      "text/plain": [
       "                              Policy_Number  Nature_of_the_claim_1_SUM  \\\n",
       "0  0004a3f30deef9fc8f9f5cb334b8bec8d79c7453                          3   \n",
       "1  0009049ed3ac539074a3cbfadb59cac6aec2fd98                          1   \n",
       "2  000949143e8dc7d5f570cb8c3b6aa51c8f8ac9ad                          3   \n",
       "3  0009dfd25805f44c7fa82c1ddb010eb3a05612f6                          3   \n",
       "4  000a5d472fa501c2e9d771dfae4af646f281f97d                          4   \n",
       "\n",
       "   Nature_of_the_claim_2_SUM  Driver's_Gender_1_SUM  Driver's_Gender_2_SUM  \\\n",
       "0                          4                      0                      7   \n",
       "1                          0                      1                      0   \n",
       "2                          0                      0                      3   \n",
       "3                          0                      0                      3   \n",
       "4                          0                      4                      0   \n",
       "\n",
       "   Driver's_Relationship_with_Insured_1_SUM  \\\n",
       "0                                         7   \n",
       "1                                         0   \n",
       "2                                         0   \n",
       "3                                         0   \n",
       "4                                         0   \n",
       "\n",
       "   Driver's_Relationship_with_Insured_2_SUM  \\\n",
       "0                                         0   \n",
       "1                                         1   \n",
       "2                                         0   \n",
       "3                                         0   \n",
       "4                                         0   \n",
       "\n",
       "   Driver's_Relationship_with_Insured_3_SUM  \\\n",
       "0                                         0   \n",
       "1                                         0   \n",
       "2                                         0   \n",
       "3                                         3   \n",
       "4                                         0   \n",
       "\n",
       "   Driver's_Relationship_with_Insured_4_SUM  \\\n",
       "0                                         0   \n",
       "1                                         0   \n",
       "2                                         0   \n",
       "3                                         0   \n",
       "4                                         0   \n",
       "\n",
       "   Driver's_Relationship_with_Insured_5_SUM          ...           \\\n",
       "0                                         0          ...            \n",
       "1                                         0          ...            \n",
       "2                                         3          ...            \n",
       "3                                         0          ...            \n",
       "4                                         4          ...            \n",
       "\n",
       "   Accident_Time_14_SUM  Accident_Time_15_SUM  Accident_Time_16_SUM  \\\n",
       "0                     0                     0                     0   \n",
       "1                     0                     0                     0   \n",
       "2                     2                     0                     0   \n",
       "3                     0                     0                     0   \n",
       "4                     0                     0                     4   \n",
       "\n",
       "   Accident_Time_17_SUM  Accident_Time_18_SUM  Accident_Time_19_SUM  \\\n",
       "0                     0                     0                     0   \n",
       "1                     0                     0                     0   \n",
       "2                     0                     1                     0   \n",
       "3                     0                     0                     0   \n",
       "4                     0                     0                     0   \n",
       "\n",
       "   Accident_Time_20_SUM  Accident_Time_21_SUM  Accident_Time_22_SUM  \\\n",
       "0                     0                     0                     0   \n",
       "1                     0                     0                     0   \n",
       "2                     0                     0                     0   \n",
       "3                     0                     0                     0   \n",
       "4                     0                     0                     0   \n",
       "\n",
       "   Accident_Time_23_SUM  \n",
       "0                     0  \n",
       "1                     0  \n",
       "2                     0  \n",
       "3                     0  \n",
       "4                     0  \n",
       "\n",
       "[5 rows x 127 columns]"
      ]
     },
     "execution_count": 40,
     "metadata": {},
     "output_type": "execute_result"
    }
   ],
   "source": [
    "#整理dummy\n",
    "Label_1=[s+'_'+l for s in claim_cat.columns.tolist() if s!='Policy_Number' for l in ['SUM']]\n",
    "avg_claim_cat=claim_cat.groupby('Policy_Number').agg(['sum']).reset_index()\n",
    "avg_claim_cat.columns=['Policy_Number']+Label_1\n",
    "avg_claim_cat.head()"
   ]
  },
  {
   "cell_type": "code",
   "execution_count": 41,
   "metadata": {},
   "outputs": [
    {
     "data": {
      "text/html": [
       "<div>\n",
       "<table border=\"1\" class=\"dataframe\">\n",
       "  <thead>\n",
       "    <tr style=\"text-align: right;\">\n",
       "      <th></th>\n",
       "      <th>Policy_Number</th>\n",
       "      <th>Paid_Loss_Amount_MEAN</th>\n",
       "      <th>Paid_Loss_Amount_COUNT</th>\n",
       "      <th>Paid_Loss_Amount_MEDIAN</th>\n",
       "      <th>Paid_Loss_Amount_MAX</th>\n",
       "      <th>paid_Expenses_Amount_MEAN</th>\n",
       "      <th>paid_Expenses_Amount_MEDIAN</th>\n",
       "      <th>paid_Expenses_Amount_MAX</th>\n",
       "      <th>Salvage_or_Subrogation?_MEAN</th>\n",
       "      <th>Salvage_or_Subrogation?_MEDIAN</th>\n",
       "      <th>...</th>\n",
       "      <th>Deductible_MAX</th>\n",
       "      <th>number_of_claimants_MEAN</th>\n",
       "      <th>number_of_claimants_MEDIAN</th>\n",
       "      <th>number_of_claimants_MAX</th>\n",
       "      <th>DOB_of_Driver_MEAN</th>\n",
       "      <th>DOB_of_Driver_MEDIAN</th>\n",
       "      <th>DOB_of_Driver_MAX</th>\n",
       "      <th>Accident_Date_MEAN</th>\n",
       "      <th>Accident_Date_MEDIAN</th>\n",
       "      <th>Accident_Date_MAX</th>\n",
       "    </tr>\n",
       "  </thead>\n",
       "  <tbody>\n",
       "    <tr>\n",
       "      <th>0</th>\n",
       "      <td>0004a3f30deef9fc8f9f5cb334b8bec8d79c7453</td>\n",
       "      <td>11371.428571</td>\n",
       "      <td>7</td>\n",
       "      <td>0.0</td>\n",
       "      <td>79600</td>\n",
       "      <td>564.285714</td>\n",
       "      <td>0.0</td>\n",
       "      <td>3000</td>\n",
       "      <td>6114.285714</td>\n",
       "      <td>0.0</td>\n",
       "      <td>...</td>\n",
       "      <td>0</td>\n",
       "      <td>1.787000</td>\n",
       "      <td>1.787</td>\n",
       "      <td>1.787</td>\n",
       "      <td>67.0</td>\n",
       "      <td>67.0</td>\n",
       "      <td>67.0</td>\n",
       "      <td>1.0</td>\n",
       "      <td>1.0</td>\n",
       "      <td>1.0</td>\n",
       "    </tr>\n",
       "    <tr>\n",
       "      <th>1</th>\n",
       "      <td>0009049ed3ac539074a3cbfadb59cac6aec2fd98</td>\n",
       "      <td>40315.000000</td>\n",
       "      <td>1</td>\n",
       "      <td>40315.0</td>\n",
       "      <td>40315</td>\n",
       "      <td>0.000000</td>\n",
       "      <td>0.0</td>\n",
       "      <td>0</td>\n",
       "      <td>0.000000</td>\n",
       "      <td>0.0</td>\n",
       "      <td>...</td>\n",
       "      <td>0</td>\n",
       "      <td>1.787000</td>\n",
       "      <td>1.787</td>\n",
       "      <td>1.787</td>\n",
       "      <td>43.0</td>\n",
       "      <td>43.0</td>\n",
       "      <td>43.0</td>\n",
       "      <td>1.0</td>\n",
       "      <td>1.0</td>\n",
       "      <td>1.0</td>\n",
       "    </tr>\n",
       "    <tr>\n",
       "      <th>2</th>\n",
       "      <td>000949143e8dc7d5f570cb8c3b6aa51c8f8ac9ad</td>\n",
       "      <td>9613.666667</td>\n",
       "      <td>3</td>\n",
       "      <td>10555.0</td>\n",
       "      <td>18286</td>\n",
       "      <td>0.000000</td>\n",
       "      <td>0.0</td>\n",
       "      <td>0</td>\n",
       "      <td>0.000000</td>\n",
       "      <td>0.0</td>\n",
       "      <td>...</td>\n",
       "      <td>0</td>\n",
       "      <td>1.916333</td>\n",
       "      <td>1.981</td>\n",
       "      <td>1.981</td>\n",
       "      <td>41.0</td>\n",
       "      <td>41.0</td>\n",
       "      <td>41.0</td>\n",
       "      <td>2.0</td>\n",
       "      <td>2.0</td>\n",
       "      <td>2.0</td>\n",
       "    </tr>\n",
       "    <tr>\n",
       "      <th>3</th>\n",
       "      <td>0009dfd25805f44c7fa82c1ddb010eb3a05612f6</td>\n",
       "      <td>4498.666667</td>\n",
       "      <td>3</td>\n",
       "      <td>0.0</td>\n",
       "      <td>13496</td>\n",
       "      <td>233.333333</td>\n",
       "      <td>0.0</td>\n",
       "      <td>700</td>\n",
       "      <td>0.000000</td>\n",
       "      <td>0.0</td>\n",
       "      <td>...</td>\n",
       "      <td>0</td>\n",
       "      <td>1.981000</td>\n",
       "      <td>1.981</td>\n",
       "      <td>1.981</td>\n",
       "      <td>53.0</td>\n",
       "      <td>53.0</td>\n",
       "      <td>53.0</td>\n",
       "      <td>1.0</td>\n",
       "      <td>1.0</td>\n",
       "      <td>1.0</td>\n",
       "    </tr>\n",
       "    <tr>\n",
       "      <th>4</th>\n",
       "      <td>000a5d472fa501c2e9d771dfae4af646f281f97d</td>\n",
       "      <td>5129.000000</td>\n",
       "      <td>4</td>\n",
       "      <td>2108.0</td>\n",
       "      <td>16300</td>\n",
       "      <td>210.000000</td>\n",
       "      <td>70.0</td>\n",
       "      <td>700</td>\n",
       "      <td>0.000000</td>\n",
       "      <td>0.0</td>\n",
       "      <td>...</td>\n",
       "      <td>0</td>\n",
       "      <td>1.981000</td>\n",
       "      <td>1.981</td>\n",
       "      <td>1.981</td>\n",
       "      <td>33.0</td>\n",
       "      <td>33.0</td>\n",
       "      <td>33.0</td>\n",
       "      <td>1.0</td>\n",
       "      <td>1.0</td>\n",
       "      <td>1.0</td>\n",
       "    </tr>\n",
       "  </tbody>\n",
       "</table>\n",
       "<p>5 rows × 26 columns</p>\n",
       "</div>"
      ],
      "text/plain": [
       "                              Policy_Number  Paid_Loss_Amount_MEAN  \\\n",
       "0  0004a3f30deef9fc8f9f5cb334b8bec8d79c7453           11371.428571   \n",
       "1  0009049ed3ac539074a3cbfadb59cac6aec2fd98           40315.000000   \n",
       "2  000949143e8dc7d5f570cb8c3b6aa51c8f8ac9ad            9613.666667   \n",
       "3  0009dfd25805f44c7fa82c1ddb010eb3a05612f6            4498.666667   \n",
       "4  000a5d472fa501c2e9d771dfae4af646f281f97d            5129.000000   \n",
       "\n",
       "   Paid_Loss_Amount_COUNT  Paid_Loss_Amount_MEDIAN  Paid_Loss_Amount_MAX  \\\n",
       "0                       7                      0.0                 79600   \n",
       "1                       1                  40315.0                 40315   \n",
       "2                       3                  10555.0                 18286   \n",
       "3                       3                      0.0                 13496   \n",
       "4                       4                   2108.0                 16300   \n",
       "\n",
       "   paid_Expenses_Amount_MEAN  paid_Expenses_Amount_MEDIAN  \\\n",
       "0                 564.285714                          0.0   \n",
       "1                   0.000000                          0.0   \n",
       "2                   0.000000                          0.0   \n",
       "3                 233.333333                          0.0   \n",
       "4                 210.000000                         70.0   \n",
       "\n",
       "   paid_Expenses_Amount_MAX  Salvage_or_Subrogation?_MEAN  \\\n",
       "0                      3000                   6114.285714   \n",
       "1                         0                      0.000000   \n",
       "2                         0                      0.000000   \n",
       "3                       700                      0.000000   \n",
       "4                       700                      0.000000   \n",
       "\n",
       "   Salvage_or_Subrogation?_MEDIAN        ...          Deductible_MAX  \\\n",
       "0                             0.0        ...                       0   \n",
       "1                             0.0        ...                       0   \n",
       "2                             0.0        ...                       0   \n",
       "3                             0.0        ...                       0   \n",
       "4                             0.0        ...                       0   \n",
       "\n",
       "   number_of_claimants_MEAN  number_of_claimants_MEDIAN  \\\n",
       "0                  1.787000                       1.787   \n",
       "1                  1.787000                       1.787   \n",
       "2                  1.916333                       1.981   \n",
       "3                  1.981000                       1.981   \n",
       "4                  1.981000                       1.981   \n",
       "\n",
       "   number_of_claimants_MAX  DOB_of_Driver_MEAN  DOB_of_Driver_MEDIAN  \\\n",
       "0                    1.787                67.0                  67.0   \n",
       "1                    1.787                43.0                  43.0   \n",
       "2                    1.981                41.0                  41.0   \n",
       "3                    1.981                53.0                  53.0   \n",
       "4                    1.981                33.0                  33.0   \n",
       "\n",
       "   DOB_of_Driver_MAX  Accident_Date_MEAN  Accident_Date_MEDIAN  \\\n",
       "0               67.0                 1.0                   1.0   \n",
       "1               43.0                 1.0                   1.0   \n",
       "2               41.0                 2.0                   2.0   \n",
       "3               53.0                 1.0                   1.0   \n",
       "4               33.0                 1.0                   1.0   \n",
       "\n",
       "   Accident_Date_MAX  \n",
       "0                1.0  \n",
       "1                1.0  \n",
       "2                2.0  \n",
       "3                1.0  \n",
       "4                1.0  \n",
       "\n",
       "[5 rows x 26 columns]"
      ]
     },
     "execution_count": 41,
     "metadata": {},
     "output_type": "execute_result"
    }
   ],
   "source": [
    "#整理數值型變數\n",
    "claim_value=claim[value_list]\n",
    "claim_value=pd.concat([claim_index,claim_value],axis=1)\n",
    "\n",
    "value_list_count=[\\\n",
    "#'Paid_Loss_Amount_COUNT',\\# left one var dont' drop\n",
    "'paid_Expenses_Amount_COUNT',\\\n",
    "'Salvage_or_Subrogation?_COUNT',\\\n",
    "'At_Fault?_COUNT',\\\n",
    "'Deductible_COUNT',\\\n",
    "'number_of_claimants_COUNT',\\\n",
    "'DOB_of_Driver_COUNT',\\\n",
    "'Accident_Date_COUNT']\n",
    "\n",
    "Label_1=[s+'_'+l for s in claim_value.columns.tolist() if s!='Policy_Number' for l in ['MEAN','COUNT','MEDIAN','MAX']]\n",
    "avg_claim_value=claim_value.groupby('Policy_Number').agg(['mean','count','median','max']).reset_index()\n",
    "avg_claim_value.columns=['Policy_Number']+Label_1\n",
    "avg_claim_value=avg_claim_value.drop(value_list_count,axis=1)\n",
    "avg_claim_value.head()"
   ]
  },
  {
   "cell_type": "code",
   "execution_count": 42,
   "metadata": {
    "collapsed": true
   },
   "outputs": [],
   "source": [
    "#移除太多類別的變數：廠牌名稱,車型代號,郵遞區號\n",
    "policy_cif=policy_cif.drop([\\\n",
    "'Vehicle_Make_and_Model2_New',\\\n",
    "'Coding_of_Vehicle_Branding_&_Type_New',\\\n",
    "'aassured_zip_New'],axis=1)\n",
    "#'Distribution_Channel_New',\\\n",
    "#'iply_area_New'\n",
    "\n",
    "#remove iply_area, aassured_zip,Distribution_Channel suggested by 堂軒, \n",
    "#上述做法未奏效,改回原做法"
   ]
  },
  {
   "cell_type": "markdown",
   "metadata": {},
   "source": [
    "合併母體"
   ]
  },
  {
   "cell_type": "code",
   "execution_count": 43,
   "metadata": {
    "collapsed": true
   },
   "outputs": [],
   "source": [
    "training_set_var=training_set.\\\n",
    "merge(policy_cif,on='Policy_Number',how='left').\\\n",
    "merge(avg_policy_amount,on='Policy_Number',how='left').\\\n",
    "merge(avg_policy_category,on='Policy_Number',how='left').\\\n",
    "merge(avg_claim_cat,on='Policy_Number',how='left').\\\n",
    "merge(avg_claim_value,on='Policy_Number',how='left')\n",
    "\n",
    "testing_set_var=testing_set.\\\n",
    "merge(policy_cif,on='Policy_Number',how='left').\\\n",
    "merge(avg_policy_amount,on='Policy_Number',how='left').\\\n",
    "merge(avg_policy_category,on='Policy_Number',how='left').\\\n",
    "merge(avg_claim_cat,on='Policy_Number',how='left').\\\n",
    "merge(avg_claim_value,on='Policy_Number',how='left')"
   ]
  },
  {
   "cell_type": "code",
   "execution_count": 44,
   "metadata": {
    "collapsed": true
   },
   "outputs": [],
   "source": [
    "policyID2=policyID2\\\n",
    "[['Policy_Number',\n",
    "  'Insureds_ID_count',\n",
    " 'Insured_Amount1_ID',\n",
    " 'Insured_Amount2_ID',\n",
    " 'Insured_Amount3_ID',\n",
    " 'Premium_ID',\n",
    " 'Insured_Amount1_ID_SUM',\n",
    " 'Insured_Amount1_ID_MEAN',\n",
    " 'Insured_Amount1_ID_MAX',\n",
    " 'Insured_Amount2_ID_SUM',\n",
    " 'Insured_Amount2_ID_MEAN',\n",
    " 'Insured_Amount2_ID_MAX',\n",
    " 'Insured_Amount3_ID_SUM',\n",
    " 'Insured_Amount3_ID_MEAN',\n",
    " 'Insured_Amount3_ID_MAX',\n",
    " 'Premium_ID_SUM',\n",
    " 'Premium_ID_MEAN',\n",
    " 'Premium_ID_MAX',\n",
    " 'Insured_Amount1_ID_ratio',\n",
    " 'Insured_Amount2_ID_ratio',\n",
    " 'Insured_Amount3_ID_ratio',\n",
    " 'Premium_ID_ratio']]"
   ]
  },
  {
   "cell_type": "code",
   "execution_count": 45,
   "metadata": {
    "collapsed": true
   },
   "outputs": [],
   "source": [
    "#rule base排掉Insured amount1,2,3全0\n",
    "training_set_var_0=training_set_var[training_set_var['lia_class'].isnull()==True]\n",
    "training_set_var=training_set_var[training_set_var['lia_class'].isnull()!=True]\n",
    "\n",
    "testing_set_var_0=testing_set_var[testing_set_var['lia_class'].isnull()==True]\n",
    "testing_set_var=testing_set_var[testing_set_var['lia_class'].isnull()!=True]"
   ]
  },
  {
   "cell_type": "code",
   "execution_count": 46,
   "metadata": {},
   "outputs": [
    {
     "data": {
      "text/plain": [
       "((202191, 255), (8572, 255), (5513, 255), (134997, 255))"
      ]
     },
     "execution_count": 46,
     "metadata": {},
     "output_type": "execute_result"
    }
   ],
   "source": [
    "training_set_var.shape,training_set_var_0.shape,testing_set_var_0.shape,testing_set_var.shape"
   ]
  },
  {
   "cell_type": "code",
   "execution_count": 47,
   "metadata": {
    "collapsed": true
   },
   "outputs": [],
   "source": [
    "#classifier的Ｘ跟Ｙ\n",
    "seg2=training_set_var.merge(training_set_baseline2,on=['Policy_Number'],how='left')\n",
    "\n",
    "training_set_var2=training_set_var.merge(policyID2,on=['Policy_Number'],how='left')\n",
    "\n",
    "testing_set_var2=testing_set_var.merge(policyID2,on=['Policy_Number'],how='left')\n",
    "\n",
    "training_Y=seg2['segment']\n",
    "training_X=training_set_var2.iloc[:,2:]\n",
    "testing_X=testing_set_var2.iloc[:,2:]"
   ]
  },
  {
   "cell_type": "code",
   "execution_count": 48,
   "metadata": {
    "collapsed": true
   },
   "outputs": [],
   "source": [
    "#Regressor1的Ｘ跟Ｙ:預測log(Next_Premium+1)\n",
    "training_set_var2=training_set_var.merge(training_set_baseline2,on=['Policy_Number'],how='left')\n",
    "training_set_var2=training_set_var2[training_set_var2['segment']!=0]\n",
    "\n",
    "training_YY=training_set_var2['Next_Premium'].apply(lambda x:np.log(x+1))\n",
    "training_set_var2=training_set_var2.drop(['segment'],axis=1)\n",
    "training_XX=training_set_var2.iloc[:,2:]"
   ]
  },
  {
   "cell_type": "code",
   "execution_count": 49,
   "metadata": {
    "collapsed": true
   },
   "outputs": [],
   "source": [
    "#Regressor2的Ｘ跟Ｙ:預測Premium的變化量\n",
    "training_set_var2=training_set_var.merge(training_set_baseline2,on=['Policy_Number'],how='left')\n",
    "training_set_var2=training_set_var2[training_set_var2['segment']!=0]\n",
    "\n",
    "training_YY_2=training_set_var2['Next_Premium']-training_set_var2['Premium_SUM']\n",
    "training_set_var2=training_set_var2.drop(['segment'],axis=1)\n",
    "training_XX_2=training_set_var2.iloc[:,2:]\n"
   ]
  },
  {
   "cell_type": "code",
   "execution_count": 50,
   "metadata": {
    "collapsed": true
   },
   "outputs": [],
   "source": [
    "#Regressor3的Ｘ跟Ｙ:直接預測Premium\n",
    "training_set_var2=training_set_var.merge(training_set_baseline2,on=['Policy_Number'],how='left')\n",
    "training_set_var2=training_set_var2[training_set_var2['segment']!=0]\n",
    "\n",
    "training_YY_3=training_set_var2['Next_Premium']\n",
    "training_set_var2=training_set_var2.drop(['segment'],axis=1)\n",
    "training_XX_3=training_set_var2.iloc[:,2:]"
   ]
  },
  {
   "cell_type": "code",
   "execution_count": 51,
   "metadata": {},
   "outputs": [
    {
     "name": "stdout",
     "output_type": "stream",
     "text": [
      "(202191, 274) (134997, 274) (164537, 253) (164537, 253)\n"
     ]
    }
   ],
   "source": [
    "print(training_X.shape,testing_X.shape,training_XX.shape,training_XX_2.shape)"
   ]
  },
  {
   "cell_type": "code",
   "execution_count": 52,
   "metadata": {},
   "outputs": [
    {
     "name": "stdout",
     "output_type": "stream",
     "text": [
      "(202191, 274) (134997, 274) (164537, 253) (164537, 253)\n"
     ]
    }
   ],
   "source": [
    "print(training_X.shape,testing_X.shape,training_XX.shape,training_XX_2.shape)"
   ]
  },
  {
   "cell_type": "code",
   "execution_count": 53,
   "metadata": {
    "collapsed": true
   },
   "outputs": [],
   "source": [
    "cat_features=['Imported_or_Domestic_Car',\n",
    "              'fsex','fmarriage','fassured',\n",
    "              'iply_area_New',\n",
    "              'Vehicle_Make_and_Model1_New',\n",
    "              'Distribution_Channel_New'\n",
    "              #'Vehicle_Make_and_Model2_New',#\n",
    "              #'Coding_of_Vehicle_Branding_&_Type_New',#\n",
    "              #'aassured_zip_New'#\n",
    "             ]"
   ]
  },
  {
   "cell_type": "code",
   "execution_count": 54,
   "metadata": {
    "collapsed": true
   },
   "outputs": [],
   "source": [
    "# 自定義log(Next_Premium)的eval\n",
    "def log_error(preds, train_data):\n",
    "    train_data=np.exp(train_data.get_label())-1\n",
    "    preds=np.exp(preds)-1\n",
    "    return 'error',mean_absolute_error(preds,train_data) , False"
   ]
  },
  {
   "cell_type": "code",
   "execution_count": 55,
   "metadata": {
    "collapsed": true
   },
   "outputs": [],
   "source": [
    "import lightgbm\n",
    "train_data_XX = lightgbm.Dataset(training_XX, label=training_YY, categorical_feature=cat_features)\n",
    "\n",
    "params={'objective':'regression_l1',\n",
    "        'metrics':'mae',\n",
    "        'learning_rate':0.02,\n",
    "        'num_leaves':32,\n",
    "        'colsample_bytree':0.7,\n",
    "        'subsample':0.7,\n",
    "        'max_depth':7,\n",
    "        'min_child_weight':1}\n",
    "\n",
    "clf_XX_gbm = lightgbm.train(params,train_data_XX,num_boost_round=1500,categorical_feature=cat_features,feval=log_error)"
   ]
  },
  {
   "cell_type": "code",
   "execution_count": 56,
   "metadata": {},
   "outputs": [
    {
     "data": {
      "text/plain": [
       "0.11326013522902971"
      ]
     },
     "execution_count": 56,
     "metadata": {},
     "output_type": "execute_result"
    }
   ],
   "source": [
    "mean_absolute_error(training_YY,clf_XX_gbm.predict(training_XX))"
   ]
  },
  {
   "cell_type": "code",
   "execution_count": 57,
   "metadata": {
    "collapsed": true
   },
   "outputs": [],
   "source": [
    "import lightgbm\n",
    "train_data_XX_2 = lightgbm.Dataset(training_XX_2, label=training_YY_2, categorical_feature=cat_features)\n",
    "\n",
    "params={'objective':'regression_l1',\n",
    "        'metric': 'mae',\n",
    "        'learning_rate':0.01,\n",
    "        'num_leaves':32,\n",
    "        'colsample_bytree':0.7,\n",
    "        'subsample':0.7,\n",
    "        'max_depth':7,\n",
    "        'min_child_weight':1}\n",
    "\n",
    "clf_XX_2_gbm = lightgbm.train(params,train_data_XX_2,num_boost_round=840,categorical_feature=cat_features)"
   ]
  },
  {
   "cell_type": "code",
   "execution_count": 58,
   "metadata": {},
   "outputs": [
    {
     "data": {
      "text/plain": [
       "849.80189351284275"
      ]
     },
     "execution_count": 58,
     "metadata": {},
     "output_type": "execute_result"
    }
   ],
   "source": [
    "#clf_XX_2_gbm.predict(training_XX_2)\n",
    "mean_absolute_error(training_YY_2,clf_XX_2_gbm.predict(training_XX_2))"
   ]
  },
  {
   "cell_type": "code",
   "execution_count": 59,
   "metadata": {
    "collapsed": true
   },
   "outputs": [],
   "source": [
    "import lightgbm\n",
    "train_data_XX_3 = lightgbm.Dataset(training_XX_3, label=training_YY_3, categorical_feature=cat_features)\n",
    "\n",
    "params={'objective':'regression_l1',\n",
    "        'metric': 'mae',\n",
    "        'learning_rate':0.01,\n",
    "        'num_leaves':32,\n",
    "        'colsample_bytree':0.7,\n",
    "        'subsample':0.7,\n",
    "        'max_depth':7,\n",
    "        'min_child_weight':1}\n",
    "\n",
    "clf_XX_3_gbm = lightgbm.train(params,train_data_XX_3,num_boost_round=900,categorical_feature=cat_features)"
   ]
  },
  {
   "cell_type": "code",
   "execution_count": 60,
   "metadata": {},
   "outputs": [
    {
     "data": {
      "text/plain": [
       "882.71415482765633"
      ]
     },
     "execution_count": 60,
     "metadata": {},
     "output_type": "execute_result"
    }
   ],
   "source": [
    "#clf_XX_3_gbm.predict(training_XX_3)\n",
    "mean_absolute_error(training_YY_3,clf_XX_3_gbm.predict(training_XX_3))"
   ]
  },
  {
   "cell_type": "markdown",
   "metadata": {},
   "source": [
    "建立三個regressor的ensemble線性迴歸"
   ]
  },
  {
   "cell_type": "code",
   "execution_count": 61,
   "metadata": {
    "collapsed": true
   },
   "outputs": [],
   "source": [
    "seg2_ensemble=training_set_var.merge(training_set_baseline2,on=['Policy_Number'],how='left')\n",
    "#seg2_ensemble.loc[seg2_ensemble['segment']!=0,'segment']=1\n",
    "seg2_ensemble=seg2_ensemble[seg2_ensemble['segment']==1]"
   ]
  },
  {
   "cell_type": "code",
   "execution_count": 65,
   "metadata": {
    "collapsed": true
   },
   "outputs": [],
   "source": [
    "seg2_ensemble2=seg2_ensemble.copy()\n",
    "#產生diff版的預測值\n",
    "seg2_ensemble2['Next_Premium_Predict_diff']=clf_XX_2_gbm.predict(seg2_ensemble.\\\n",
    "drop(['Policy_Number','Next_Premium','segment'],axis=1))\n",
    "\n",
    "#seg2_ensemble2=seg2_ensemble2.merge(baseline,on='Policy_Number',how='left')\n",
    "\n",
    "seg2_ensemble2['Next_Premium_Predict_diff']=seg2_ensemble2['Premium_SUM']+seg2_ensemble2['Next_Premium_Predict_diff']\n",
    "seg2_ensemble2['Next_Premium_Predict_diff']=seg2_ensemble2['Next_Premium_Predict_diff'].apply(lambda x: x if x>0 else 0)"
   ]
  },
  {
   "cell_type": "code",
   "execution_count": 66,
   "metadata": {
    "collapsed": true
   },
   "outputs": [],
   "source": [
    "#產生log版的預測值\n",
    "seg2_ensemble2['Next_Premium_Predict_log']=clf_XX_gbm.predict(seg2_ensemble.\\\n",
    "drop(['Policy_Number','Next_Premium','segment'],axis=1))\n",
    "\n",
    "seg2_ensemble2['Next_Premium_Predict_log']=seg2_ensemble2['Next_Premium_Predict_log'].apply(lambda x: np.e**x-1)"
   ]
  },
  {
   "cell_type": "code",
   "execution_count": 67,
   "metadata": {
    "collapsed": true
   },
   "outputs": [],
   "source": [
    "#產生直接預測值\n",
    "seg2_ensemble2['Next_Premium_Predict_dir']=clf_XX_3_gbm.predict(seg2_ensemble.\\\n",
    "drop(['Policy_Number','Next_Premium','segment'],axis=1))"
   ]
  },
  {
   "cell_type": "code",
   "execution_count": 68,
   "metadata": {
    "collapsed": true
   },
   "outputs": [],
   "source": [
    "training_XX_ensemble=seg2_ensemble2[['Next_Premium_Predict_diff','Next_Premium_Predict_log','Next_Premium_Predict_dir']]\n",
    "training_YY_ensemble=seg2_ensemble2['Next_Premium']"
   ]
  },
  {
   "cell_type": "code",
   "execution_count": 69,
   "metadata": {
    "collapsed": true
   },
   "outputs": [],
   "source": [
    "from sklearn.linear_model import LinearRegression"
   ]
  },
  {
   "cell_type": "code",
   "execution_count": 70,
   "metadata": {},
   "outputs": [
    {
     "name": "stderr",
     "output_type": "stream",
     "text": [
      "/usr/local/Cellar/python3/3.6.1/Frameworks/Python.framework/Versions/3.6/lib/python3.6/site-packages/scipy/linalg/basic.py:1018: RuntimeWarning: internal gelsd driver lwork query error, required iwork dimension not returned. This is likely the result of LAPACK bug 0038, fixed in LAPACK 3.2.2 (released July 21, 2010). Falling back to 'gelss' driver.\n",
      "  warnings.warn(mesg, RuntimeWarning)\n"
     ]
    },
    {
     "data": {
      "text/plain": [
       "LinearRegression(copy_X=True, fit_intercept=False, n_jobs=1, normalize=False)"
      ]
     },
     "execution_count": 70,
     "metadata": {},
     "output_type": "execute_result"
    }
   ],
   "source": [
    "clf_linear=LinearRegression(fit_intercept= False)\n",
    "clf_linear.fit(training_XX_ensemble,training_YY_ensemble)"
   ]
  },
  {
   "cell_type": "code",
   "execution_count": 71,
   "metadata": {},
   "outputs": [
    {
     "name": "stdout",
     "output_type": "stream",
     "text": [
      "[ 0.30239262  1.3177996  -0.6280661 ]\n"
     ]
    }
   ],
   "source": [
    "print(clf_linear.coef_)"
   ]
  },
  {
   "cell_type": "markdown",
   "metadata": {},
   "source": [
    "訓練classifier"
   ]
  },
  {
   "cell_type": "code",
   "execution_count": 73,
   "metadata": {
    "collapsed": true
   },
   "outputs": [],
   "source": [
    "import lightgbm\n",
    "train_data_X = lightgbm.Dataset(training_X,label=training_Y,categorical_feature=cat_features)"
   ]
  },
  {
   "cell_type": "code",
   "execution_count": 74,
   "metadata": {
    "collapsed": true
   },
   "outputs": [],
   "source": [
    "params={'objective':'multiclass',\n",
    "        'num_class':2,\n",
    "        'metric': 'multi_logloss',\n",
    "        'learning_rate':0.01,\n",
    "        'num_leaves':32,\n",
    "        'colsample_bytree':0.7,\n",
    "        'subsample':0.7,\n",
    "        'max_depth':7,\n",
    "        'min_child_weight':1}\n",
    "\n",
    "clf_gbm = lightgbm.train(params,train_data_X,num_boost_round=1100,categorical_feature=cat_features)"
   ]
  },
  {
   "cell_type": "code",
   "execution_count": 76,
   "metadata": {},
   "outputs": [
    {
     "data": {
      "text/plain": [
       "0.4357365726164521"
      ]
     },
     "execution_count": 76,
     "metadata": {},
     "output_type": "execute_result"
    }
   ],
   "source": [
    "#看lightGBM分類器在train的logloss\n",
    "training_set_var_new=training_set_var.copy()\n",
    "\n",
    "segment_predict_prob=clf_gbm.predict(training_X)\n",
    "segment_logloss=training_set_var_new.merge(training_set_baseline2,on='Policy_Number',how='left')\n",
    "\n",
    "from sklearn.metrics import log_loss\n",
    "log_loss(segment_logloss['segment'],segment_predict_prob)"
   ]
  },
  {
   "cell_type": "markdown",
   "metadata": {},
   "source": [
    "組合所有模型,看train的表現"
   ]
  },
  {
   "cell_type": "code",
   "execution_count": 79,
   "metadata": {
    "collapsed": true
   },
   "outputs": [],
   "source": [
    "segment_predict_prob=clf_gbm.predict(training_X)\n",
    "\n",
    "segment_predict_prob=pd.DataFrame(segment_predict_prob,columns=['Prob0','Prob1'])\n",
    "\n",
    "segment_predict=segment_predict_prob['Prob0'].apply(lambda x:0 if x>0.5 else 1)\n",
    "\n",
    "training_set_var_new=training_set_var.copy().reset_index(drop=True)\n",
    "\n",
    "training_set_var_new['segment_predict']=segment_predict"
   ]
  },
  {
   "cell_type": "code",
   "execution_count": 82,
   "metadata": {
    "collapsed": true
   },
   "outputs": [],
   "source": [
    "training_1=training_set_var_new[training_set_var_new['segment_predict']==0].reset_index(drop=True)\n",
    "training_2=training_set_var_new[training_set_var_new['segment_predict']==1].reset_index(drop=True)"
   ]
  },
  {
   "cell_type": "code",
   "execution_count": 85,
   "metadata": {
    "collapsed": true
   },
   "outputs": [],
   "source": [
    "training_1['Next_Premium_Predict']=0\n",
    "\n",
    "training_3=training_set_var_0.copy()\n",
    "training_3['Next_Premium_Predict']=0"
   ]
  },
  {
   "cell_type": "code",
   "execution_count": 83,
   "metadata": {},
   "outputs": [
    {
     "data": {
      "text/plain": [
       "((202191, 274), (202191, 256), (202191,), (202191, 255))"
      ]
     },
     "execution_count": 83,
     "metadata": {},
     "output_type": "execute_result"
    }
   ],
   "source": [
    "training_X.shape,training_set_var_new.shape,segment_predict.shape,training_set_var.shape"
   ]
  },
  {
   "cell_type": "code",
   "execution_count": 86,
   "metadata": {},
   "outputs": [
    {
     "data": {
      "text/plain": [
       "((3899, 257), (198292, 256), (8572, 256))"
      ]
     },
     "execution_count": 86,
     "metadata": {},
     "output_type": "execute_result"
    }
   ],
   "source": [
    "training_1.shape,training_2.shape,training_3.shape"
   ]
  },
  {
   "cell_type": "code",
   "execution_count": 88,
   "metadata": {
    "collapsed": true
   },
   "outputs": [],
   "source": [
    "training_2_ensemble=training_2.copy()\n",
    "#產生diff版的預測值\n",
    "training_2_ensemble['Next_Premium_Predict_diff']=clf_XX_2_gbm.predict(training_2.\\\n",
    "drop(['Policy_Number','Next_Premium','segment_predict'],axis=1))\n",
    "\n",
    "training_2_ensemble['Next_Premium_Predict_diff']=training_2_ensemble['Premium_SUM']+training_2_ensemble['Next_Premium_Predict_diff']\n",
    "training_2_ensemble['Next_Premium_Predict_diff']=training_2_ensemble['Next_Premium_Predict_diff'].apply(lambda x: x if x>0 else 0)"
   ]
  },
  {
   "cell_type": "code",
   "execution_count": 89,
   "metadata": {
    "collapsed": true
   },
   "outputs": [],
   "source": [
    "#產生log版的預測值\n",
    "training_2_ensemble['Next_Premium_Predict_log']=clf_XX_gbm.predict(training_2.\\\n",
    "drop(['Policy_Number','Next_Premium','segment_predict'],axis=1))\n",
    "\n",
    "training_2_ensemble['Next_Premium_Predict_log']=training_2_ensemble['Next_Premium_Predict_log'].apply(lambda x: np.e**x-1)"
   ]
  },
  {
   "cell_type": "code",
   "execution_count": 90,
   "metadata": {
    "collapsed": true
   },
   "outputs": [],
   "source": [
    "#產生dir版的預測值\n",
    "training_2_ensemble['Next_Premium_Predict_dir']=clf_XX_3_gbm.predict(training_2.\\\n",
    "drop(['Policy_Number','Next_Premium','segment_predict'],axis=1))"
   ]
  },
  {
   "cell_type": "code",
   "execution_count": 91,
   "metadata": {
    "collapsed": true
   },
   "outputs": [],
   "source": [
    "training_2_ensemble['Next_Premium_Predict']=\\\n",
    "clf_linear.predict(training_2_ensemble[['Next_Premium_Predict_diff','Next_Premium_Predict_log','Next_Premium_Predict_dir']])"
   ]
  },
  {
   "cell_type": "code",
   "execution_count": 92,
   "metadata": {
    "collapsed": true
   },
   "outputs": [],
   "source": [
    "training_1=training_1[['Policy_Number','Next_Premium','Next_Premium_Predict']]\n",
    "training_2_ensemble=training_2_ensemble[['Policy_Number','Next_Premium','Next_Premium_Predict']]\n",
    "training_3=training_3[['Policy_Number','Next_Premium','Next_Premium_Predict']]\n",
    "Ans_train=pd.concat([training_1,training_2_ensemble,training_3],axis=0)"
   ]
  },
  {
   "cell_type": "code",
   "execution_count": 93,
   "metadata": {},
   "outputs": [
    {
     "data": {
      "text/plain": [
       "(210763, 3)"
      ]
     },
     "execution_count": 93,
     "metadata": {},
     "output_type": "execute_result"
    }
   ],
   "source": [
    "Ans_train.shape"
   ]
  },
  {
   "cell_type": "code",
   "execution_count": 94,
   "metadata": {},
   "outputs": [
    {
     "data": {
      "text/plain": [
       "1648.1802103321443"
      ]
     },
     "execution_count": 94,
     "metadata": {},
     "output_type": "execute_result"
    }
   ],
   "source": [
    "mean_absolute_error(Ans_train['Next_Premium'],Ans_train['Next_Premium_Predict'])"
   ]
  },
  {
   "cell_type": "markdown",
   "metadata": {},
   "source": [
    "產生上傳用test預測值"
   ]
  },
  {
   "cell_type": "code",
   "execution_count": 95,
   "metadata": {
    "collapsed": true
   },
   "outputs": [],
   "source": [
    "segment_predict_prob_test=clf_gbm.predict(testing_X)\n",
    "segment_predict_prob_test=pd.DataFrame(segment_predict_prob_test,columns=['Prob0','Prob1'])\n",
    "\n",
    "segment_predict_test=segment_predict_prob_test['Prob0'].apply(lambda x:0 if x>0.5 else 1)\n",
    "\n",
    "testing_set_var_new=testing_set_var.copy().reset_index(drop=True)\n",
    "testing_set_var_new['segment_predict']=segment_predict_test"
   ]
  },
  {
   "cell_type": "code",
   "execution_count": 96,
   "metadata": {},
   "outputs": [
    {
     "data": {
      "text/plain": [
       "1    129218\n",
       "0      5779\n",
       "Name: segment_predict, dtype: int64"
      ]
     },
     "execution_count": 96,
     "metadata": {},
     "output_type": "execute_result"
    }
   ],
   "source": [
    "testing_set_var_new['segment_predict'].value_counts()"
   ]
  },
  {
   "cell_type": "code",
   "execution_count": 97,
   "metadata": {
    "collapsed": true
   },
   "outputs": [],
   "source": [
    "testing_1=testing_set_var_new[testing_set_var_new['segment_predict']==0].reset_index(drop=True)\n",
    "testing_2=testing_set_var_new[testing_set_var_new['segment_predict']==1].reset_index(drop=True)"
   ]
  },
  {
   "cell_type": "code",
   "execution_count": 98,
   "metadata": {
    "collapsed": true
   },
   "outputs": [],
   "source": [
    "testing_1['Next_Premium_Predict']=0\n",
    "\n",
    "testing_3=testing_set_var_0.copy()\n",
    "testing_3['Next_Premium_Predict']=0"
   ]
  },
  {
   "cell_type": "code",
   "execution_count": 99,
   "metadata": {
    "collapsed": true
   },
   "outputs": [],
   "source": [
    "#產生diff版的預測值\n",
    "testing_2_ensemble=testing_2.copy()\n",
    "\n",
    "testing_2_ensemble['Next_Premium_Predict_diff']=clf_XX_2_gbm.predict(testing_2.\\\n",
    "drop(['Policy_Number','Next_Premium','segment_predict'],axis=1))\n",
    "\n",
    "#testing_2_ensemble=testing_2_ensemble.merge(baseline,on='Policy_Number',how='left')\n",
    "\n",
    "testing_2_ensemble['Next_Premium_Predict_diff']=testing_2_ensemble['Premium_SUM']+testing_2_ensemble['Next_Premium_Predict_diff']\n",
    "testing_2_ensemble['Next_Premium_Predict_diff']=testing_2_ensemble['Next_Premium_Predict_diff'].apply(lambda x: x if x>0 else 0)"
   ]
  },
  {
   "cell_type": "code",
   "execution_count": 100,
   "metadata": {
    "collapsed": true
   },
   "outputs": [],
   "source": [
    "#產生log版的預測值\n",
    "testing_2_ensemble['Next_Premium_Predict_log']=clf_XX_gbm.predict(testing_2.\\\n",
    "drop(['Policy_Number','Next_Premium','segment_predict'],axis=1))\n",
    "\n",
    "testing_2_ensemble['Next_Premium_Predict_log']=testing_2_ensemble['Next_Premium_Predict_log'].apply(lambda x: np.e**x-1)"
   ]
  },
  {
   "cell_type": "code",
   "execution_count": 101,
   "metadata": {
    "collapsed": true
   },
   "outputs": [],
   "source": [
    "#產生dir版的預測值\n",
    "testing_2_ensemble['Next_Premium_Predict_dir']=clf_XX_3_gbm.predict(testing_2.\\\n",
    "drop(['Policy_Number','Next_Premium','segment_predict'],axis=1))"
   ]
  },
  {
   "cell_type": "code",
   "execution_count": 102,
   "metadata": {
    "collapsed": true
   },
   "outputs": [],
   "source": [
    "testing_2_ensemble['Next_Premium_Predict']=clf_linear.\\\n",
    "predict(testing_2_ensemble[['Next_Premium_Predict_diff','Next_Premium_Predict_log','Next_Premium_Predict_dir']])"
   ]
  },
  {
   "cell_type": "code",
   "execution_count": 103,
   "metadata": {
    "collapsed": true
   },
   "outputs": [],
   "source": [
    "testing_1=testing_1[['Policy_Number','Next_Premium_Predict']]\n",
    "testing_2_ensemble=testing_2_ensemble[['Policy_Number','Next_Premium_Predict']]\n",
    "testing_3=testing_3[['Policy_Number','Next_Premium_Predict']]\n",
    "Ans=pd.concat([testing_1,testing_2_ensemble,testing_3],axis=0)"
   ]
  },
  {
   "cell_type": "code",
   "execution_count": 104,
   "metadata": {
    "collapsed": true
   },
   "outputs": [],
   "source": [
    "#產生上傳檔\n",
    "Ans=Ans.rename(columns={'Next_Premium_Predict':'Next_Premium'})\n",
    "Ans.to_csv('V2_9_5_4.csv',index=True)"
   ]
  }
 ],
 "metadata": {
  "kernelspec": {
   "display_name": "Python 3",
   "language": "python",
   "name": "python3"
  },
  "language_info": {
   "codemirror_mode": {
    "name": "ipython",
    "version": 3
   },
   "file_extension": ".py",
   "mimetype": "text/x-python",
   "name": "python",
   "nbconvert_exporter": "python",
   "pygments_lexer": "ipython3",
   "version": "3.6.1"
  }
 },
 "nbformat": 4,
 "nbformat_minor": 2
}
